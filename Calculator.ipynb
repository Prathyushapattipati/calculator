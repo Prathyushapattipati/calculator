{
  "nbformat": 4,
  "nbformat_minor": 0,
  "metadata": {
    "colab": {
      "provenance": [],
      "authorship_tag": "ABX9TyMASd4IWIvhf3e3Cm6Bkiwv",
      "include_colab_link": true
    },
    "kernelspec": {
      "name": "python3",
      "display_name": "Python 3"
    },
    "language_info": {
      "name": "python"
    }
  },
  "cells": [
    {
      "cell_type": "markdown",
      "metadata": {
        "id": "view-in-github",
        "colab_type": "text"
      },
      "source": [
        "<a href=\"https://colab.research.google.com/github/Prathyushapattipati/To-check-availability/blob/main/Calculator.ipynb\" target=\"_parent\"><img src=\"https://colab.research.google.com/assets/colab-badge.svg\" alt=\"Open In Colab\"/></a>"
      ]
    },
    {
      "cell_type": "code",
      "execution_count": 36,
      "metadata": {
        "colab": {
          "base_uri": "https://localhost:8080/"
        },
        "id": "x5Ty8NmA_MSd",
        "outputId": "7fcf0323-fa5f-4a9a-f106-e2333a3c7937"
      },
      "outputs": [
        {
          "output_type": "stream",
          "name": "stdout",
          "text": [
            "1.addition\n",
            "2.subtraction\n",
            "3.multiplication\n",
            "4.division\n",
            "5.percentage\n",
            "6.percentile\n",
            "7.trigonometry\n",
            "enter your choice6\n",
            "1.sin()\n",
            "2.cos()\n",
            "3.tan()\n",
            "4.cot()\n",
            "5.sec()\n",
            "6.cosec()\n",
            "enter you option: 5\n",
            "enter the angle:60\n",
            "sec60=2.0000\n"
          ]
        }
      ],
      "source": [
        "import math\n",
        "def calculator():\n",
        "    print(\"1.addition\")\n",
        "    print(\"2.subtraction\")\n",
        "    print(\"3.multiplication\")\n",
        "    print(\"4.division\")\n",
        "    print(\"5.percentage\")\n",
        "    print(\"6.trigonometry\")\n",
        "    m=int(input(\"enter your choice\"))\n",
        "    match m:\n",
        "        case 1:\n",
        "            a=int(input(\"enter a value\"))\n",
        "            b=int(input(\"enter b value\"))\n",
        "            if type(a)==int and type(b)==int:\n",
        "                print(f\"addition of {a} and {b} is {a+b}\")\n",
        "            else:\n",
        "                print(\"input is invalid\")\n",
        "        case 2:\n",
        "            a=int(input(\"enter a value\"))\n",
        "            b=int(input(\"enter b value\"))\n",
        "            if type(a)==int and type(b)==int:\n",
        "                print(f\"subtraction of {a} and {b} is {a-b}\")\n",
        "            else:\n",
        "                print(\"input is invalid\")\n",
        "        case 3:\n",
        "            a=int(input(\"enter a value\"))\n",
        "            b=int(input(\"enter b value\"))\n",
        "            if type(a)==int and type(b)==int:\n",
        "                print(f\"multiplication of {a} and {b} is {a*b}\")\n",
        "            else:\n",
        "                print(\"input is invalid\")\n",
        "        case 4:\n",
        "            a=int(input(\"enter a value\"))\n",
        "            b=int(input(\"enter b value\"))\n",
        "            if type(a)==int and type(b)==int:\n",
        "                if b!=0:\n",
        "                    print(f\"division of two numbers is {a/b}\")\n",
        "                else:\n",
        "                    print (\"b should not be zero\")\n",
        "            else:\n",
        "                print(\"input is invalid\")\n",
        "        case 5:\n",
        "            a=int(input(\"enter part value\"))\n",
        "            b=int(input(\"enter whole value\"))\n",
        "            percentage=(a/b)*100\n",
        "            print(f\"percentage value is {percentage}% \")\n",
        "        case 6:\n",
        "            print(\"1.sin()\")\n",
        "            print(\"2.cos()\")\n",
        "            print(\"3.tan()\")\n",
        "            print(\"4.cot()\")\n",
        "            print(\"5.sec()\")\n",
        "            print(\"6.cosec()\")\n",
        "            x=int(input(\"enter you option: \"))\n",
        "            match x:\n",
        "                case 1:\n",
        "                    r=int(input(\"enter the angle\"))\n",
        "                    radian=math.radians(r)\n",
        "                    sinvalue= math.sin(radian)\n",
        "                    print(f\"sin{r}={sinvalue:.4f}\")\n",
        "                case 2:\n",
        "                    r=int(input(\"enter the angle:\"))\n",
        "                    radian=math.radians(r)\n",
        "                    cosvalue= math.cos(radian)\n",
        "                    print(f\"cos{r}={cosvalue:.4f}\")\n",
        "                case 3:\n",
        "                    r=int(input(\"enter the angle:\"))\n",
        "                    radian=math.radians(r)\n",
        "                    tanvalue= math.tan(radian)\n",
        "                    print(f\"tan{r}={tanvalue:.4f}\")\n",
        "                case 4:\n",
        "                     r=int(input(\"enter the angle:\"))\n",
        "                     radian=math.radians(r)\n",
        "                     cotvalue=1/ math.tan(radian)\n",
        "                     print(f\"cot{r}={cotvalue:.4f}\")\n",
        "                case 5:\n",
        "                    r=int(input(\"enter the angle:\"))\n",
        "                    radian=math.radians(r)\n",
        "                    secvalue= 1/math.cos(radian)\n",
        "                    print(f\"sec{r}={secvalue:.4f}\")\n",
        "                case 6:\n",
        "                     r=int(input(\"enter the angle:\"))\n",
        "                     radian=math.radians(r)\n",
        "                     cosecvalue=1/math.sin(radian)\n",
        "                     print(f\"cosec{r}={cosecvalue:.4f}\")\n",
        "                case _:\n",
        "                     print(\"invalid option\")\n",
        "        case _:\n",
        "            print(\"choosen option is invalid\")\n",
        "calculator()"
      ]
    }
  ]
}